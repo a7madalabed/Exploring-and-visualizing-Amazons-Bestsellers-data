{
 "cells": [
  {
   "cell_type": "markdown",
   "id": "816ed6fe",
   "metadata": {},
   "source": [
    "# Amazon Top 50 Bestselling Books 2009 - 2019\n",
    "\n",
    "One of the most important steps of any data science project is to exploring and visualize the data you have collected and cleaned to gain insight.\n",
    "\n",
    "In this simple Notebook we are going to dive into Amazon Top 50 Bestselling Books 2009 - 2019 dataset, explore and visualize the dataset and see what insights we can collect.\n",
    "\n",
    "But first let's import the libraries we will work with :\n",
    "1. _Numpy_ \n",
    "2. _Pandas_\n",
    "3. _Matplotlib_\n",
    "4. _Seaborn_"
   ]
  },
  {
   "cell_type": "code",
   "execution_count": 1,
   "id": "b326401b",
   "metadata": {},
   "outputs": [],
   "source": [
    "import numpy as np\n",
    "import pandas as pd\n",
    "%matplotlib inline\n",
    "import matplotlib as mpl\n",
    "import matplotlib.pyplot as plt\n",
    "mpl.rc('axes', labelsize=14)\n",
    "mpl.rc('xtick', labelsize=12)\n",
    "mpl.rc('ytick', labelsize=12)\n",
    "plt.style.use('ggplot')\n",
    "import seaborn as sns\n",
    "sns.set_palette('husl')"
   ]
  },
  {
   "cell_type": "markdown",
   "id": "0a855742",
   "metadata": {},
   "source": [
    "We then load the dataset CSV file using Pandas function: **read_csv**"
   ]
  },
  {
   "cell_type": "code",
   "execution_count": 2,
   "id": "3ba41992",
   "metadata": {},
   "outputs": [
    {
     "data": {
      "text/html": [
       "<div>\n",
       "<style scoped>\n",
       "    .dataframe tbody tr th:only-of-type {\n",
       "        vertical-align: middle;\n",
       "    }\n",
       "\n",
       "    .dataframe tbody tr th {\n",
       "        vertical-align: top;\n",
       "    }\n",
       "\n",
       "    .dataframe thead th {\n",
       "        text-align: right;\n",
       "    }\n",
       "</style>\n",
       "<table border=\"1\" class=\"dataframe\">\n",
       "  <thead>\n",
       "    <tr style=\"text-align: right;\">\n",
       "      <th></th>\n",
       "      <th>Name</th>\n",
       "      <th>Author</th>\n",
       "      <th>User Rating</th>\n",
       "      <th>Reviews</th>\n",
       "      <th>Price</th>\n",
       "      <th>Year</th>\n",
       "      <th>Genre</th>\n",
       "    </tr>\n",
       "  </thead>\n",
       "  <tbody>\n",
       "    <tr>\n",
       "      <th>0</th>\n",
       "      <td>10-Day Green Smoothie Cleanse</td>\n",
       "      <td>JJ Smith</td>\n",
       "      <td>4.7</td>\n",
       "      <td>17350</td>\n",
       "      <td>8</td>\n",
       "      <td>2016</td>\n",
       "      <td>Non Fiction</td>\n",
       "    </tr>\n",
       "    <tr>\n",
       "      <th>1</th>\n",
       "      <td>11/22/63: A Novel</td>\n",
       "      <td>Stephen King</td>\n",
       "      <td>4.6</td>\n",
       "      <td>2052</td>\n",
       "      <td>22</td>\n",
       "      <td>2011</td>\n",
       "      <td>Fiction</td>\n",
       "    </tr>\n",
       "    <tr>\n",
       "      <th>2</th>\n",
       "      <td>12 Rules for Life: An Antidote to Chaos</td>\n",
       "      <td>Jordan B. Peterson</td>\n",
       "      <td>4.7</td>\n",
       "      <td>18979</td>\n",
       "      <td>15</td>\n",
       "      <td>2018</td>\n",
       "      <td>Non Fiction</td>\n",
       "    </tr>\n",
       "    <tr>\n",
       "      <th>3</th>\n",
       "      <td>1984 (Signet Classics)</td>\n",
       "      <td>George Orwell</td>\n",
       "      <td>4.7</td>\n",
       "      <td>21424</td>\n",
       "      <td>6</td>\n",
       "      <td>2017</td>\n",
       "      <td>Fiction</td>\n",
       "    </tr>\n",
       "    <tr>\n",
       "      <th>4</th>\n",
       "      <td>5,000 Awesome Facts (About Everything!) (Natio...</td>\n",
       "      <td>National Geographic Kids</td>\n",
       "      <td>4.8</td>\n",
       "      <td>7665</td>\n",
       "      <td>12</td>\n",
       "      <td>2019</td>\n",
       "      <td>Non Fiction</td>\n",
       "    </tr>\n",
       "  </tbody>\n",
       "</table>\n",
       "</div>"
      ],
      "text/plain": [
       "                                                Name  \\\n",
       "0                      10-Day Green Smoothie Cleanse   \n",
       "1                                  11/22/63: A Novel   \n",
       "2            12 Rules for Life: An Antidote to Chaos   \n",
       "3                             1984 (Signet Classics)   \n",
       "4  5,000 Awesome Facts (About Everything!) (Natio...   \n",
       "\n",
       "                     Author  User Rating  Reviews  Price  Year        Genre  \n",
       "0                  JJ Smith          4.7    17350      8  2016  Non Fiction  \n",
       "1              Stephen King          4.6     2052     22  2011      Fiction  \n",
       "2        Jordan B. Peterson          4.7    18979     15  2018  Non Fiction  \n",
       "3             George Orwell          4.7    21424      6  2017      Fiction  \n",
       "4  National Geographic Kids          4.8     7665     12  2019  Non Fiction  "
      ]
     },
     "execution_count": 2,
     "metadata": {},
     "output_type": "execute_result"
    }
   ],
   "source": [
    "df = pd.read_csv(\"bestsellers with categories.csv\")\n",
    "df.head()"
   ]
  },
  {
   "cell_type": "code",
   "execution_count": 3,
   "id": "2704217d",
   "metadata": {},
   "outputs": [
    {
     "name": "stdout",
     "output_type": "stream",
     "text": [
      "<class 'pandas.core.frame.DataFrame'>\n",
      "RangeIndex: 550 entries, 0 to 549\n",
      "Data columns (total 7 columns):\n",
      " #   Column       Non-Null Count  Dtype  \n",
      "---  ------       --------------  -----  \n",
      " 0   Name         550 non-null    object \n",
      " 1   Author       550 non-null    object \n",
      " 2   User Rating  550 non-null    float64\n",
      " 3   Reviews      550 non-null    int64  \n",
      " 4   Price        550 non-null    int64  \n",
      " 5   Year         550 non-null    int64  \n",
      " 6   Genre        550 non-null    object \n",
      "dtypes: float64(1), int64(3), object(3)\n",
      "memory usage: 30.2+ KB\n"
     ]
    }
   ],
   "source": [
    "df.info()"
   ]
  },
  {
   "cell_type": "markdown",
   "id": "c6ec17cb",
   "metadata": {},
   "source": [
    "By using another one of the many usefull functions of the Pandas library, **the info() fuction** we can get an overview of how much missing data we have if any, what's the type of each column(feature) and how much rows and columns our data have.\n",
    "\n",
    "In this particular dataset for example:\n",
    "1. there are no missing data.\n",
    "2. the dataset contains 550 rows and 7 columns."
   ]
  },
  {
   "cell_type": "code",
   "execution_count": 4,
   "id": "ffa620bd",
   "metadata": {},
   "outputs": [
    {
     "data": {
      "text/html": [
       "<div>\n",
       "<style scoped>\n",
       "    .dataframe tbody tr th:only-of-type {\n",
       "        vertical-align: middle;\n",
       "    }\n",
       "\n",
       "    .dataframe tbody tr th {\n",
       "        vertical-align: top;\n",
       "    }\n",
       "\n",
       "    .dataframe thead th {\n",
       "        text-align: right;\n",
       "    }\n",
       "</style>\n",
       "<table border=\"1\" class=\"dataframe\">\n",
       "  <thead>\n",
       "    <tr style=\"text-align: right;\">\n",
       "      <th></th>\n",
       "      <th>User Rating</th>\n",
       "      <th>Reviews</th>\n",
       "      <th>Price</th>\n",
       "      <th>Year</th>\n",
       "    </tr>\n",
       "  </thead>\n",
       "  <tbody>\n",
       "    <tr>\n",
       "      <th>count</th>\n",
       "      <td>550.000000</td>\n",
       "      <td>550.000000</td>\n",
       "      <td>550.000000</td>\n",
       "      <td>550.000000</td>\n",
       "    </tr>\n",
       "    <tr>\n",
       "      <th>mean</th>\n",
       "      <td>4.618364</td>\n",
       "      <td>11953.281818</td>\n",
       "      <td>13.100000</td>\n",
       "      <td>2014.000000</td>\n",
       "    </tr>\n",
       "    <tr>\n",
       "      <th>std</th>\n",
       "      <td>0.226980</td>\n",
       "      <td>11731.132017</td>\n",
       "      <td>10.842262</td>\n",
       "      <td>3.165156</td>\n",
       "    </tr>\n",
       "    <tr>\n",
       "      <th>min</th>\n",
       "      <td>3.300000</td>\n",
       "      <td>37.000000</td>\n",
       "      <td>0.000000</td>\n",
       "      <td>2009.000000</td>\n",
       "    </tr>\n",
       "    <tr>\n",
       "      <th>25%</th>\n",
       "      <td>4.500000</td>\n",
       "      <td>4058.000000</td>\n",
       "      <td>7.000000</td>\n",
       "      <td>2011.000000</td>\n",
       "    </tr>\n",
       "    <tr>\n",
       "      <th>50%</th>\n",
       "      <td>4.700000</td>\n",
       "      <td>8580.000000</td>\n",
       "      <td>11.000000</td>\n",
       "      <td>2014.000000</td>\n",
       "    </tr>\n",
       "    <tr>\n",
       "      <th>75%</th>\n",
       "      <td>4.800000</td>\n",
       "      <td>17253.250000</td>\n",
       "      <td>16.000000</td>\n",
       "      <td>2017.000000</td>\n",
       "    </tr>\n",
       "    <tr>\n",
       "      <th>max</th>\n",
       "      <td>4.900000</td>\n",
       "      <td>87841.000000</td>\n",
       "      <td>105.000000</td>\n",
       "      <td>2019.000000</td>\n",
       "    </tr>\n",
       "  </tbody>\n",
       "</table>\n",
       "</div>"
      ],
      "text/plain": [
       "       User Rating       Reviews       Price         Year\n",
       "count   550.000000    550.000000  550.000000   550.000000\n",
       "mean      4.618364  11953.281818   13.100000  2014.000000\n",
       "std       0.226980  11731.132017   10.842262     3.165156\n",
       "min       3.300000     37.000000    0.000000  2009.000000\n",
       "25%       4.500000   4058.000000    7.000000  2011.000000\n",
       "50%       4.700000   8580.000000   11.000000  2014.000000\n",
       "75%       4.800000  17253.250000   16.000000  2017.000000\n",
       "max       4.900000  87841.000000  105.000000  2019.000000"
      ]
     },
     "execution_count": 4,
     "metadata": {},
     "output_type": "execute_result"
    }
   ],
   "source": [
    "df.describe()"
   ]
  },
  {
   "cell_type": "markdown",
   "id": "045c55e9",
   "metadata": {},
   "source": [
    "By using the **describe function** we can get some insight to things like the mean user rating and the mean price for a bestseller book.\n",
    "\n",
    "For example, you should be able to notice that the lowest rated best seller book got a mere ***3.3*** user rating."
   ]
  },
  {
   "cell_type": "markdown",
   "id": "0644c3f8",
   "metadata": {},
   "source": [
    "# Now let's visualize the dataset"
   ]
  },
  {
   "cell_type": "code",
   "execution_count": 5,
   "id": "bdd139d2",
   "metadata": {},
   "outputs": [
    {
     "data": {
      "image/png": "[encoded data removed]",
      "text/plain": [
       "<Figure size 1440x1080 with 4 Axes>"
      ]
     },
     "metadata": {
      "needs_background": "light"
     },
     "output_type": "display_data"
    }
   ],
   "source": [
    "%matplotlib inline\n",
    "import matplotlib.pyplot as plt\n",
    "df.hist(bins=50, figsize=(20,15))\n",
    "plt.show()"
   ]
  },
  {
   "cell_type": "markdown",
   "id": "1e8fd2a9",
   "metadata": {},
   "source": [
    "**From the graphs above we can see that:**\n",
    "1. most of the user ratings ranges between 4.6 and 4.8.\n",
    "2. most of the books got less than 20000 reviews.\n",
    "3. most of prices ranges from 10 to 20 dollars.\n",
    "\n",
    "**important notes:** \n",
    "1. books prices listed as zero's are probably just filled by zero's instead of NA for convenience but they should be dealt with.\n",
    "2. Also books with prices like 80 and 100 dollars should be investigated if they are outliers or not."
   ]
  },
  {
   "cell_type": "code",
   "execution_count": 15,
   "id": "af09fe5c",
   "metadata": {},
   "outputs": [
    {
     "name": "stderr",
     "output_type": "stream",
     "text": [
      "*c* argument looks like a single numeric RGB or RGBA sequence, which should be avoided as value-mapping will have precedence in case its length matches with *x* & *y*.  Please use the *color* keyword-argument or provide a 2-D array with a single row if you intend to specify the same RGB or RGBA value for all points.\n"
     ]
    },
    {
     "data": {
      "text/plain": [
       "<AxesSubplot:xlabel='User Rating', ylabel='Genre'>"
      ]
     },
     "execution_count": 15,
     "metadata": {},
     "output_type": "execute_result"
    },
    {
     "data": {
      "image/png": "[encoded data removed]",
      "text/plain": [
       "<Figure size 432x288 with 1 Axes>"
      ]
     },
     "metadata": {},
     "output_type": "display_data"
    }
   ],
   "source": [
    "df.plot(kind=\"scatter\", x=\"User Rating\", y=\"Genre\", alpha=0.5)"
   ]
  },
  {
   "cell_type": "markdown",
   "id": "53881996",
   "metadata": {},
   "source": [
    "The graph above shows that the probability for a Non Fiction book to get a user rating less than 4 are less likely compared to their counterparts that got a user rating average as low as 3.3."
   ]
  },
  {
   "cell_type": "code",
   "execution_count": 7,
   "id": "dfcc25b2",
   "metadata": {},
   "outputs": [
    {
     "data": {
      "text/plain": [
       "Non Fiction    310\n",
       "Fiction        240\n",
       "Name: Genre, dtype: int64"
      ]
     },
     "execution_count": 7,
     "metadata": {},
     "output_type": "execute_result"
    }
   ],
   "source": [
    "df[\"Genre\"].value_counts()"
   ]
  },
  {
   "cell_type": "code",
   "execution_count": 8,
   "id": "1312ab55",
   "metadata": {},
   "outputs": [
    {
     "data": {
      "text/plain": [
       "Text(0.5, 1.0, 'Genre Pie Chart for the top 10 Bestselling Books on Amazon (2009-2019)')"
      ]
     },
     "execution_count": 8,
     "metadata": {},
     "output_type": "execute_result"
    },
    {
     "data": {
      "image/png": "[encoded data removed]",
      "text/plain": [
       "<Figure size 576x576 with 1 Axes>"
      ]
     },
     "metadata": {},
     "output_type": "display_data"
    }
   ],
   "source": [
    "pie = [310, 240]\n",
    "sns.set_palette(\"husl\")\n",
    "plt.figure(figsize=(8,8))\n",
    "plt.pie(pie ,labels=['Fiction','Non Fiction'],autopct='%.1f%%',shadow=True,startangle=90)\n",
    "plt.title('Genre Pie Chart for the top 10 Bestselling Books on Amazon (2009-2019)')"
   ]
  },
  {
   "cell_type": "markdown",
   "id": "1e0d355e",
   "metadata": {},
   "source": [
    "**As you can see, even thought Non Fiction books are rated better than Fiction books it doesn't mean that they are more popular.**"
   ]
  },
  {
   "cell_type": "code",
   "execution_count": 9,
   "id": "bb35d6e5",
   "metadata": {},
   "outputs": [
    {
     "data": {
      "text/plain": [
       "Jeff Kinney                           12\n",
       "Suzanne Collins                       11\n",
       "Gary Chapman                          11\n",
       "Rick Riordan                          11\n",
       "American Psychological Association    10\n",
       "                                      ..\n",
       "Michael Lewis                          1\n",
       "Michael Pollan                         1\n",
       "George W. Bush                         1\n",
       "Dave Ramsey                            1\n",
       "Daniel H. Pink                         1\n",
       "Name: Author, Length: 248, dtype: int64"
      ]
     },
     "execution_count": 9,
     "metadata": {},
     "output_type": "execute_result"
    }
   ],
   "source": [
    "df[\"Author\"].value_counts()"
   ]
  },
  {
   "cell_type": "markdown",
   "id": "a52da4bf",
   "metadata": {},
   "source": [
    "By using the value counts function from the pandas library we can get an overview of how many books each auther has in the list.\n",
    "\n",
    "For example, **Jeff kinney** has the most books in the bestsellers dataset with 12 books folowed by **Suzanne Collins, Gary Chapman and Rick Riordan**."
   ]
  },
  {
   "cell_type": "code",
   "execution_count": 10,
   "id": "46573a24",
   "metadata": {},
   "outputs": [
    {
     "data": {
      "text/html": [
       "<div>\n",
       "<style scoped>\n",
       "    .dataframe tbody tr th:only-of-type {\n",
       "        vertical-align: middle;\n",
       "    }\n",
       "\n",
       "    .dataframe tbody tr th {\n",
       "        vertical-align: top;\n",
       "    }\n",
       "\n",
       "    .dataframe thead th {\n",
       "        text-align: right;\n",
       "    }\n",
       "</style>\n",
       "<table border=\"1\" class=\"dataframe\">\n",
       "  <thead>\n",
       "    <tr style=\"text-align: right;\">\n",
       "      <th></th>\n",
       "      <th>Name</th>\n",
       "      <th>Author</th>\n",
       "      <th>User Rating</th>\n",
       "      <th>Reviews</th>\n",
       "      <th>Price</th>\n",
       "      <th>Year</th>\n",
       "      <th>Genre</th>\n",
       "    </tr>\n",
       "  </thead>\n",
       "  <tbody>\n",
       "    <tr>\n",
       "      <th>264</th>\n",
       "      <td>Percy Jackson and the Olympians Paperback Boxe...</td>\n",
       "      <td>Rick Riordan</td>\n",
       "      <td>4.8</td>\n",
       "      <td>548</td>\n",
       "      <td>2</td>\n",
       "      <td>2010</td>\n",
       "      <td>Fiction</td>\n",
       "    </tr>\n",
       "    <tr>\n",
       "      <th>343</th>\n",
       "      <td>The Blood of Olympus (The Heroes of Olympus (5))</td>\n",
       "      <td>Rick Riordan</td>\n",
       "      <td>4.8</td>\n",
       "      <td>6600</td>\n",
       "      <td>11</td>\n",
       "      <td>2014</td>\n",
       "      <td>Fiction</td>\n",
       "    </tr>\n",
       "    <tr>\n",
       "      <th>406</th>\n",
       "      <td>The House of Hades (Heroes of Olympus, Book 4)</td>\n",
       "      <td>Rick Riordan</td>\n",
       "      <td>4.8</td>\n",
       "      <td>6982</td>\n",
       "      <td>14</td>\n",
       "      <td>2013</td>\n",
       "      <td>Fiction</td>\n",
       "    </tr>\n",
       "    <tr>\n",
       "      <th>418</th>\n",
       "      <td>The Last Olympian (Percy Jackson and the Olymp...</td>\n",
       "      <td>Rick Riordan</td>\n",
       "      <td>4.8</td>\n",
       "      <td>4628</td>\n",
       "      <td>7</td>\n",
       "      <td>2009</td>\n",
       "      <td>Fiction</td>\n",
       "    </tr>\n",
       "    <tr>\n",
       "      <th>428</th>\n",
       "      <td>The Lost Hero (Heroes of Olympus, Book 1)</td>\n",
       "      <td>Rick Riordan</td>\n",
       "      <td>4.8</td>\n",
       "      <td>4506</td>\n",
       "      <td>14</td>\n",
       "      <td>2010</td>\n",
       "      <td>Fiction</td>\n",
       "    </tr>\n",
       "    <tr>\n",
       "      <th>432</th>\n",
       "      <td>The Mark of Athena (Heroes of Olympus, Book 3)</td>\n",
       "      <td>Rick Riordan</td>\n",
       "      <td>4.8</td>\n",
       "      <td>6247</td>\n",
       "      <td>10</td>\n",
       "      <td>2012</td>\n",
       "      <td>Fiction</td>\n",
       "    </tr>\n",
       "    <tr>\n",
       "      <th>456</th>\n",
       "      <td>The Red Pyramid (The Kane Chronicles, Book 1)</td>\n",
       "      <td>Rick Riordan</td>\n",
       "      <td>4.6</td>\n",
       "      <td>2186</td>\n",
       "      <td>12</td>\n",
       "      <td>2010</td>\n",
       "      <td>Fiction</td>\n",
       "    </tr>\n",
       "    <tr>\n",
       "      <th>458</th>\n",
       "      <td>The Serpent's Shadow (The Kane Chronicles, Boo...</td>\n",
       "      <td>Rick Riordan</td>\n",
       "      <td>4.8</td>\n",
       "      <td>2091</td>\n",
       "      <td>12</td>\n",
       "      <td>2012</td>\n",
       "      <td>Fiction</td>\n",
       "    </tr>\n",
       "    <tr>\n",
       "      <th>463</th>\n",
       "      <td>The Son of Neptune (Heroes of Olympus, Book 2)</td>\n",
       "      <td>Rick Riordan</td>\n",
       "      <td>4.8</td>\n",
       "      <td>4290</td>\n",
       "      <td>10</td>\n",
       "      <td>2011</td>\n",
       "      <td>Fiction</td>\n",
       "    </tr>\n",
       "    <tr>\n",
       "      <th>469</th>\n",
       "      <td>The Throne of Fire (The Kane Chronicles, Book 2)</td>\n",
       "      <td>Rick Riordan</td>\n",
       "      <td>4.7</td>\n",
       "      <td>1463</td>\n",
       "      <td>10</td>\n",
       "      <td>2011</td>\n",
       "      <td>Fiction</td>\n",
       "    </tr>\n",
       "  </tbody>\n",
       "</table>\n",
       "</div>"
      ],
      "text/plain": [
       "                                                  Name        Author  \\\n",
       "264  Percy Jackson and the Olympians Paperback Boxe...  Rick Riordan   \n",
       "343   The Blood of Olympus (The Heroes of Olympus (5))  Rick Riordan   \n",
       "406     The House of Hades (Heroes of Olympus, Book 4)  Rick Riordan   \n",
       "418  The Last Olympian (Percy Jackson and the Olymp...  Rick Riordan   \n",
       "428          The Lost Hero (Heroes of Olympus, Book 1)  Rick Riordan   \n",
       "432     The Mark of Athena (Heroes of Olympus, Book 3)  Rick Riordan   \n",
       "456      The Red Pyramid (The Kane Chronicles, Book 1)  Rick Riordan   \n",
       "458  The Serpent's Shadow (The Kane Chronicles, Boo...  Rick Riordan   \n",
       "463     The Son of Neptune (Heroes of Olympus, Book 2)  Rick Riordan   \n",
       "469   The Throne of Fire (The Kane Chronicles, Book 2)  Rick Riordan   \n",
       "\n",
       "     User Rating  Reviews  Price  Year    Genre  \n",
       "264          4.8      548      2  2010  Fiction  \n",
       "343          4.8     6600     11  2014  Fiction  \n",
       "406          4.8     6982     14  2013  Fiction  \n",
       "418          4.8     4628      7  2009  Fiction  \n",
       "428          4.8     4506     14  2010  Fiction  \n",
       "432          4.8     6247     10  2012  Fiction  \n",
       "456          4.6     2186     12  2010  Fiction  \n",
       "458          4.8     2091     12  2012  Fiction  \n",
       "463          4.8     4290     10  2011  Fiction  \n",
       "469          4.7     1463     10  2011  Fiction  "
      ]
     },
     "execution_count": 10,
     "metadata": {},
     "output_type": "execute_result"
    }
   ],
   "source": [
    "new_df = df.drop_duplicates('Name')\n",
    "new_df[new_df['Author']=='Rick Riordan']"
   ]
  },
  {
   "cell_type": "markdown",
   "id": "d85f5bec",
   "metadata": {},
   "source": [
    "If we dive a little deeper into each author list we can see some hidden details about their books.\n",
    "\n",
    "Here we accessed the books written by Rick Riordan and we were able to notice that most of the books are from the **Heroes of Olympus** book series."
   ]
  },
  {
   "cell_type": "code",
   "execution_count": 11,
   "id": "4bc11ad6",
   "metadata": {
    "scrolled": true
   },
   "outputs": [
    {
     "data": {
      "image/png": "[encoded data removed]",
      "text/plain": [
       "<Figure size 864x432 with 1 Axes>"
      ]
     },
     "metadata": {
      "needs_background": "light"
     },
     "output_type": "display_data"
    }
   ],
   "source": [
    "books = df.groupby(['Year','Genre']).count().unstack()['Name']\n",
    "\n",
    "fig,axes=plt.subplots(1,1,figsize=(12,6))\n",
    "sns.set_style('white')\n",
    "axes.plot(books,markersize=5,markerfacecolor='grey',marker='o')\n",
    "axes.set_xlabel('Year')\n",
    "axes.set_ylabel('Number Of Entries')\n",
    "axes.set_xticks(books.index)\n",
    "axes.set_ylim(10,40)\n",
    "axes.spines['right'].set_color('none')\n",
    "axes.spines['top'].set_color('none')\n",
    "axes.legend(books)\n",
    "axes.set_title('Fiction Vs. Non Fiction Books In The Bestsellers List (2009-2019)',fontdict={'size':15})\n",
    "plt.grid(0)\n",
    "\n",
    "plt.show()"
   ]
  },
  {
   "cell_type": "markdown",
   "id": "aba94a02",
   "metadata": {},
   "source": [
    "We can also use data visualization to see that Non Fiction enteries had been more common than Fiction entries through the years 2009-2019.\n",
    "\n",
    "The only except to this rule is the year 2014."
   ]
  },
  {
   "cell_type": "markdown",
   "id": "4015a649",
   "metadata": {},
   "source": [
    "# Thanks for reading.\n",
    "\n",
    "## By the end of this I hope that:\n",
    "### 1. this was a brief and good introduction to the power of data exploration and data visualization.\n",
    "### 2. The reader had learned at least one new thing from reading this jupyter notebook."
   ]
  },
  {
   "cell_type": "code",
   "execution_count": null,
   "id": "f16d92c3",
   "metadata": {},
   "outputs": [],
   "source": []
  }
 ],
 "metadata": {
  "kernelspec": {
   "display_name": "Python 3",
   "language": "python",
   "name": "python3"
  },
  "language_info": {
   "codemirror_mode": {
    "name": "ipython",
    "version": 3
   },
   "file_extension": ".py",
   "mimetype": "text/x-python",
   "name": "python",
   "nbconvert_exporter": "python",
   "pygments_lexer": "ipython3",
   "version": "3.8.8"
  }
 },
 "nbformat": 4,
 "nbformat_minor": 5
}
